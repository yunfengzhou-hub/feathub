{
 "cells": [
  {
   "attachments": {},
   "cell_type": "markdown",
   "metadata": {},
   "source": [
    "[![Open In\n",
    "Colab](https://colab.research.google.com/assets/colab-badge.svg)](https://colab.research.google.com/github/alibaba/feathub/blob/master/docs/examples/feature_embedding.ipynb)"
   ]
  },
  {
   "attachments": {},
   "cell_type": "markdown",
   "metadata": {},
   "source": [
    "# Feature Embedding\n",
    "\n",
    "Feature embedding is a way to translate a high-dimensional feature vector to a\n",
    "lower-dimensional vector, where the embedding can be learned and reused across\n",
    "models. In this example, we show how one can define feature embeddings via\n",
    "Python UDF (User Defined Function).\n",
    "\n",
    "We use a sample hotel review dataset downloaded from [Azure-Samples\n",
    "repository](https://github.com/Azure-Samples/azure-search-sample-data). The\n",
    "original dataset can be found\n",
    "[here](https://www.kaggle.com/datasets/datafiniti/hotel-reviews).\n",
    "\n",
    "For the embedding, a pre-trained [HuggingFace Transformer\n",
    "model](https://huggingface.co/sentence-transformers) is used to encode texts\n",
    "into numerical values. The text embeddings can be used for many NLP problems\n",
    "such as detecting fake reviews, sentiment analysis, and finding similar hotels,\n",
    "but building such models is out of scope and thus we don't cover that in this\n",
    "notebook.\n",
    "\n",
    "Please feel free to view this example interactively with Colab by clicking the\n",
    "badge at the top left corner of this notebook."
   ]
  },
  {
   "attachments": {},
   "cell_type": "markdown",
   "metadata": {},
   "source": [
    "## Install dependencies\n",
    "\n",
    "This example has been verified in Python 3.7 with the following libraries.\n",
    "\n",
    "- feathub-nightly[flink]\n",
    "- sentence-transformers\n",
    "- plotly\n",
    "- matplotlib\n",
    "\n",
    "Execute the following cells to install these dependencies. **If the notebook is\n",
    "executed in Colab, restart the runtime after the following cells are executed,\n",
    "in order to make sure Python 3.7 is correctly configured to execute the Python\n",
    "cells.**"
   ]
  },
  {
   "cell_type": "code",
   "execution_count": null,
   "metadata": {},
   "outputs": [],
   "source": [
    "%%bash\n",
    "python_version=`python -V`\n",
    "if [[ $python_version != *\"3.7\"* ]]; then\n",
    "    # install python 3.7\n",
    "    sudo apt-get update -y\n",
    "    sudo apt-get install python3.7 python3-pip python3.7-distutils python3-apt\n",
    "\n",
    "    # change alternatives\n",
    "    sudo update-alternatives --install /usr/bin/python3 python3 /usr/bin/python3.7 0\n",
    "    sudo update-alternatives --set python3 /usr/bin/python3.7\n",
    "fi"
   ]
  },
  {
   "cell_type": "code",
   "execution_count": null,
   "metadata": {},
   "outputs": [],
   "source": [
    "%%bash\n",
    "feathub_dependencies=`pip list | grep feathub`\n",
    "if [[ -z \"$feathub_dependencies\" ]]; then\n",
    "    pip install \"feathub-nightly[flink]\"\n",
    "fi\n",
    "\n",
    "pip install sentence-transformers plotly matplotlib"
   ]
  },
  {
   "attachments": {},
   "cell_type": "markdown",
   "metadata": {},
   "source": [
    "## Import Python dependencies"
   ]
  },
  {
   "cell_type": "code",
   "execution_count": null,
   "metadata": {},
   "outputs": [],
   "source": [
    "import os\n",
    "from typing import Any, List\n",
    "\n",
    "import numpy as np\n",
    "import pandas as pd\n",
    "import requests\n",
    "from sentence_transformers import SentenceTransformer\n",
    "\n",
    "from feathub.common import types\n",
    "from feathub.feathub_client import FeathubClient\n",
    "from feathub.feature_tables.sinks.memory_store_sink import MemoryStoreSink\n",
    "from feathub.feature_tables.sources.file_system_source import FileSystemSource\n",
    "from feathub.feature_tables.sources.memory_store_source import MemoryStoreSource\n",
    "from feathub.feature_views.derived_feature_view import DerivedFeatureView\n",
    "from feathub.feature_views.feature import Feature\n",
    "from feathub.feature_views.on_demand_feature_view import OnDemandFeatureView\n",
    "from feathub.feature_views.transforms.python_udf_transform import PythonUdfTransform\n",
    "from feathub.table.schema import Schema"
   ]
  },
  {
   "attachments": {},
   "cell_type": "markdown",
   "metadata": {},
   "source": [
    "## Download and preprocess resource files\n",
    "\n",
    "Download the hotel review dataset and append an incremental number column as\n",
    "review IDs."
   ]
  },
  {
   "cell_type": "code",
   "execution_count": null,
   "metadata": {},
   "outputs": [],
   "source": [
    "source_file_name = \"HotelReviews_data.csv\"\n",
    "\n",
    "if not os.path.exists(source_file_name):\n",
    "    url = (\n",
    "        \"https://raw.githubusercontent.com/Azure-Samples/azure-search-sample-data/main/hotelreviews/\"\n",
    "        + source_file_name\n",
    "    )\n",
    "    r = requests.get(url)\n",
    "    open(source_file_name, \"wb\").write(r.content)\n",
    "    df = pd.read_csv(source_file_name)\n",
    "    os.remove(source_file_name)\n",
    "    df[\"reviews_id\"] = df.index\n",
    "    df.to_csv(source_file_name, index=False, header=False)"
   ]
  },
  {
   "attachments": {},
   "cell_type": "markdown",
   "metadata": {},
   "source": [
    "## Initialize FeatHub client"
   ]
  },
  {
   "cell_type": "code",
   "execution_count": null,
   "metadata": {},
   "outputs": [],
   "source": [
    "client = FeathubClient(\n",
    "    props={\n",
    "        \"processor\": {\n",
    "            \"type\": \"flink\",\n",
    "            \"flink\": {\n",
    "                \"master\": \"local\",\n",
    "            },\n",
    "        },\n",
    "        \"registry\": {\n",
    "            \"type\": \"local\",\n",
    "            \"local\": {\n",
    "                \"namespace\": \"default\",\n",
    "            },\n",
    "        },\n",
    "        \"feature_service\": {\n",
    "            \"type\": \"local\",\n",
    "            \"local\": {},\n",
    "        },\n",
    "    }\n",
    ")"
   ]
  },
  {
   "attachments": {},
   "cell_type": "markdown",
   "metadata": {},
   "source": [
    "## Specify source dataset"
   ]
  },
  {
   "cell_type": "code",
   "execution_count": null,
   "metadata": {},
   "outputs": [],
   "source": [
    "schema = (\n",
    "    Schema.new_builder()\n",
    "    .column(\"address\", types.String)\n",
    "    .column(\"categories\", types.String)\n",
    "    .column(\"city\", types.String)\n",
    "    .column(\"country\", types.String)\n",
    "    .column(\"latitude\", types.Float64)\n",
    "    .column(\"longitude\", types.Float64)\n",
    "    .column(\"name\", types.String)\n",
    "    .column(\"postalCode\", types.String)\n",
    "    .column(\"province\", types.String)\n",
    "    .column(\"reviews_date\", types.String)\n",
    "    .column(\"reviews_dateAdded\", types.String)\n",
    "    .column(\"reviews_rating\", types.Int32)\n",
    "    .column(\"reviews_text\", types.String)\n",
    "    .column(\"reviews_title\", types.String)\n",
    "    .column(\"reviews_username\", types.String)\n",
    "    .column(\"reviews_id\", types.Int32)\n",
    "    .build()\n",
    ")\n",
    "\n",
    "source = FileSystemSource(\n",
    "    name=\"source_1\",\n",
    "    path=source_file_name,\n",
    "    data_format=\"csv\",\n",
    "    schema=schema,\n",
    "    keys=[\"reviews_id\"],\n",
    ")"
   ]
  },
  {
   "attachments": {},
   "cell_type": "markdown",
   "metadata": {},
   "source": [
    "## Create feature embedding UDF\n",
    "\n",
    "Create the feature-embedding UDF from [a pretrained Transformer model from\n",
    "HuggingFace](https://huggingface.co/sentence-transformers/paraphrase-MiniLM-L6-v2)."
   ]
  },
  {
   "cell_type": "code",
   "execution_count": null,
   "metadata": {},
   "outputs": [],
   "source": [
    "def predict_batch_udf(row: pd.Series) -> List[float]:\n",
    "    model = SentenceTransformer(\"paraphrase-MiniLM-L6-v2\")\n",
    "    return [float(x) for x in model.encode(row[\"reviews_text\"]).tolist()]"
   ]
  },
  {
   "attachments": {},
   "cell_type": "markdown",
   "metadata": {},
   "source": [
    "## Build and register features"
   ]
  },
  {
   "cell_type": "code",
   "execution_count": null,
   "metadata": {},
   "outputs": [],
   "source": [
    "feature_view = DerivedFeatureView(\n",
    "    name=\"feature_view\",\n",
    "    source=source,\n",
    "    features=[\n",
    "        Feature(\n",
    "            name=\"reviews_text_embedding\",\n",
    "            dtype=types.Float64Vector,\n",
    "            transform=PythonUdfTransform(predict_batch_udf),\n",
    "            keys=[\"reviews_id\"],\n",
    "        )\n",
    "    ],\n",
    "    keep_source_fields=True,\n",
    ")\n",
    "\n",
    "_ = client.build_features([feature_view])"
   ]
  },
  {
   "attachments": {},
   "cell_type": "markdown",
   "metadata": {},
   "source": [
    "## Materialize features into online feature store"
   ]
  },
  {
   "cell_type": "code",
   "execution_count": null,
   "metadata": {},
   "outputs": [],
   "source": [
    "sink = MemoryStoreSink(table_name=\"table_name_1\")\n",
    "\n",
    "job = client.materialize_features(\n",
    "    feature_descriptor=feature_view,\n",
    "    sink=sink,\n",
    "    allow_overwrite=True,\n",
    ")\n",
    "job.wait(timeout_ms=10000)"
   ]
  },
  {
   "attachments": {},
   "cell_type": "markdown",
   "metadata": {},
   "source": [
    "## Fetch features from online feature store with on-demand transformations"
   ]
  },
  {
   "cell_type": "code",
   "execution_count": null,
   "metadata": {},
   "outputs": [],
   "source": [
    "source = MemoryStoreSource(\n",
    "    name=\"online_store_source\",\n",
    "    keys=[\"reviews_id\"],\n",
    "    table_name=\"table_name_1\",\n",
    ")\n",
    "on_demand_feature_view = OnDemandFeatureView(\n",
    "    name=\"on_demand_feature_view\",\n",
    "    features=[\n",
    "        \"online_store_source.name\",\n",
    "        \"online_store_source.reviews_text\",\n",
    "        \"online_store_source.reviews_text_embedding\",\n",
    "    ],\n",
    "    request_schema=Schema.new_builder().column(\"reviews_id\", types.Int32).build(),\n",
    ")\n",
    "client.build_features([source, on_demand_feature_view])\n",
    "\n",
    "request_df = pd.DataFrame(np.array([[i] for i in range(19)]), columns=[\"reviews_id\"])\n",
    "online_features = client.get_online_features(\n",
    "    request_df=request_df,\n",
    "    feature_view=on_demand_feature_view,\n",
    ")\n",
    "\n",
    "online_features"
   ]
  },
  {
   "attachments": {},
   "cell_type": "markdown",
   "metadata": {},
   "source": [
    "## Visualize online features\n",
    "\n",
    "Let's visualize the feature values. Here, we use TSNE (T-distributed Stochastic\n",
    "Neighbor Embedding) using scikit-learn to plot the vectors in 2D space."
   ]
  },
  {
   "cell_type": "code",
   "execution_count": null,
   "metadata": {},
   "outputs": [],
   "source": [
    "import numpy as np\n",
    "import plotly.graph_objs as go\n",
    "from sklearn.manifold import TSNE\n",
    "\n",
    "\n",
    "X = np.stack(online_features[\"reviews_text_embedding\"], axis=0)\n",
    "result = TSNE(\n",
    "    n_components=2,\n",
    "    init=\"random\",\n",
    "    perplexity=10,\n",
    ").fit_transform(X)\n",
    "\n",
    "result[:10]"
   ]
  },
  {
   "cell_type": "code",
   "execution_count": null,
   "metadata": {},
   "outputs": [],
   "source": [
    "names = set(online_features[\"name\"])\n",
    "names"
   ]
  },
  {
   "cell_type": "code",
   "execution_count": null,
   "metadata": {},
   "outputs": [],
   "source": [
    "fig = go.Figure()\n",
    "\n",
    "for name in names:\n",
    "    mask = online_features[\"name\"] == name\n",
    "\n",
    "    fig.add_trace(\n",
    "        go.Scatter(\n",
    "            x=result[mask, 0],\n",
    "            y=result[mask, 1],\n",
    "            name=name,\n",
    "            textposition=\"top center\",\n",
    "            mode=\"markers+text\",\n",
    "            marker={\n",
    "                \"size\": 8,\n",
    "                \"opacity\": 0.8,\n",
    "            },\n",
    "        )\n",
    "    )\n",
    "\n",
    "fig.update_layout(\n",
    "    margin={\"l\": 0, \"r\": 0, \"b\": 0, \"t\": 0},\n",
    "    showlegend=True,\n",
    "    autosize=False,\n",
    "    width=1000,\n",
    "    height=500,\n",
    ")\n",
    "fig.show()"
   ]
  }
 ],
 "metadata": {
  "kernelspec": {
   "display_name": "feathub-dev",
   "language": "python",
   "name": "python3"
  },
  "language_info": {
   "codemirror_mode": {
    "name": "ipython",
    "version": 3
   },
   "file_extension": ".py",
   "mimetype": "text/x-python",
   "name": "python",
   "nbconvert_exporter": "python",
   "pygments_lexer": "ipython3",
   "version": "3.7.9"
  }
 },
 "nbformat": 4,
 "nbformat_minor": 2
}
